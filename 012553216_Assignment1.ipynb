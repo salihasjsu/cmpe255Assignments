{
 "cells": [
  {
   "cell_type": "markdown",
   "metadata": {},
   "source": [
    "# Identifying and filling in missing data"
   ]
  },
  {
   "cell_type": "code",
   "execution_count": 1,
   "metadata": {},
   "outputs": [],
   "source": [
    "import pandas as pd\n",
    "import numpy as np"
   ]
  },
  {
   "cell_type": "code",
   "execution_count": 2,
   "metadata": {},
   "outputs": [],
   "source": [
    "titanic_df = pd.read_csv('../datasets/titanic/train.csv')"
   ]
  },
  {
   "cell_type": "code",
   "execution_count": 3,
   "metadata": {},
   "outputs": [
    {
     "data": {
      "text/html": [
       "<div>\n",
       "<style scoped>\n",
       "    .dataframe tbody tr th:only-of-type {\n",
       "        vertical-align: middle;\n",
       "    }\n",
       "\n",
       "    .dataframe tbody tr th {\n",
       "        vertical-align: top;\n",
       "    }\n",
       "\n",
       "    .dataframe thead th {\n",
       "        text-align: right;\n",
       "    }\n",
       "</style>\n",
       "<table border=\"1\" class=\"dataframe\">\n",
       "  <thead>\n",
       "    <tr style=\"text-align: right;\">\n",
       "      <th></th>\n",
       "      <th>PassengerId</th>\n",
       "      <th>Survived</th>\n",
       "      <th>Pclass</th>\n",
       "      <th>Name</th>\n",
       "      <th>Sex</th>\n",
       "      <th>Age</th>\n",
       "      <th>SibSp</th>\n",
       "      <th>Parch</th>\n",
       "      <th>Ticket</th>\n",
       "      <th>Fare</th>\n",
       "      <th>Cabin</th>\n",
       "      <th>Embarked</th>\n",
       "    </tr>\n",
       "  </thead>\n",
       "  <tbody>\n",
       "    <tr>\n",
       "      <th>0</th>\n",
       "      <td>1</td>\n",
       "      <td>0</td>\n",
       "      <td>3</td>\n",
       "      <td>Braund, Mr. Owen Harris</td>\n",
       "      <td>male</td>\n",
       "      <td>22.0</td>\n",
       "      <td>1</td>\n",
       "      <td>0</td>\n",
       "      <td>A/5 21171</td>\n",
       "      <td>7.2500</td>\n",
       "      <td>NaN</td>\n",
       "      <td>S</td>\n",
       "    </tr>\n",
       "    <tr>\n",
       "      <th>1</th>\n",
       "      <td>2</td>\n",
       "      <td>1</td>\n",
       "      <td>1</td>\n",
       "      <td>Cumings, Mrs. John Bradley (Florence Briggs Th...</td>\n",
       "      <td>female</td>\n",
       "      <td>38.0</td>\n",
       "      <td>1</td>\n",
       "      <td>0</td>\n",
       "      <td>PC 17599</td>\n",
       "      <td>71.2833</td>\n",
       "      <td>C85</td>\n",
       "      <td>C</td>\n",
       "    </tr>\n",
       "    <tr>\n",
       "      <th>2</th>\n",
       "      <td>3</td>\n",
       "      <td>1</td>\n",
       "      <td>3</td>\n",
       "      <td>Heikkinen, Miss. Laina</td>\n",
       "      <td>female</td>\n",
       "      <td>26.0</td>\n",
       "      <td>0</td>\n",
       "      <td>0</td>\n",
       "      <td>STON/O2. 3101282</td>\n",
       "      <td>7.9250</td>\n",
       "      <td>NaN</td>\n",
       "      <td>S</td>\n",
       "    </tr>\n",
       "    <tr>\n",
       "      <th>3</th>\n",
       "      <td>4</td>\n",
       "      <td>1</td>\n",
       "      <td>1</td>\n",
       "      <td>Futrelle, Mrs. Jacques Heath (Lily May Peel)</td>\n",
       "      <td>female</td>\n",
       "      <td>35.0</td>\n",
       "      <td>1</td>\n",
       "      <td>0</td>\n",
       "      <td>113803</td>\n",
       "      <td>53.1000</td>\n",
       "      <td>C123</td>\n",
       "      <td>S</td>\n",
       "    </tr>\n",
       "    <tr>\n",
       "      <th>4</th>\n",
       "      <td>5</td>\n",
       "      <td>0</td>\n",
       "      <td>3</td>\n",
       "      <td>Allen, Mr. William Henry</td>\n",
       "      <td>male</td>\n",
       "      <td>35.0</td>\n",
       "      <td>0</td>\n",
       "      <td>0</td>\n",
       "      <td>373450</td>\n",
       "      <td>8.0500</td>\n",
       "      <td>NaN</td>\n",
       "      <td>S</td>\n",
       "    </tr>\n",
       "  </tbody>\n",
       "</table>\n",
       "</div>"
      ],
      "text/plain": [
       "   PassengerId  Survived  Pclass  \\\n",
       "0            1         0       3   \n",
       "1            2         1       1   \n",
       "2            3         1       3   \n",
       "3            4         1       1   \n",
       "4            5         0       3   \n",
       "\n",
       "                                                Name     Sex   Age  SibSp  \\\n",
       "0                            Braund, Mr. Owen Harris    male  22.0      1   \n",
       "1  Cumings, Mrs. John Bradley (Florence Briggs Th...  female  38.0      1   \n",
       "2                             Heikkinen, Miss. Laina  female  26.0      0   \n",
       "3       Futrelle, Mrs. Jacques Heath (Lily May Peel)  female  35.0      1   \n",
       "4                           Allen, Mr. William Henry    male  35.0      0   \n",
       "\n",
       "   Parch            Ticket     Fare Cabin Embarked  \n",
       "0      0         A/5 21171   7.2500   NaN        S  \n",
       "1      0          PC 17599  71.2833   C85        C  \n",
       "2      0  STON/O2. 3101282   7.9250   NaN        S  \n",
       "3      0            113803  53.1000  C123        S  \n",
       "4      0            373450   8.0500   NaN        S  "
      ]
     },
     "execution_count": 3,
     "metadata": {},
     "output_type": "execute_result"
    }
   ],
   "source": [
    "titanic_df.head()"
   ]
  },
  {
   "cell_type": "markdown",
   "metadata": {},
   "source": [
    "### How many values of Age are missing?"
   ]
  },
  {
   "cell_type": "code",
   "execution_count": 4,
   "metadata": {},
   "outputs": [
    {
     "data": {
      "text/plain": [
       "177"
      ]
     },
     "execution_count": 4,
     "metadata": {},
     "output_type": "execute_result"
    }
   ],
   "source": [
    "sum(titanic_df['Age'].isnull() == True)"
   ]
  },
  {
   "cell_type": "code",
   "execution_count": 5,
   "metadata": {},
   "outputs": [
    {
     "data": {
      "text/plain": [
       "count    714.000000\n",
       "mean      29.699118\n",
       "std       14.526497\n",
       "min        0.420000\n",
       "25%       20.125000\n",
       "50%       28.000000\n",
       "75%       38.000000\n",
       "max       80.000000\n",
       "Name: Age, dtype: float64"
      ]
     },
     "execution_count": 5,
     "metadata": {},
     "output_type": "execute_result"
    }
   ],
   "source": [
    "desc = titanic_df['Age'].describe()\n",
    "desc"
   ]
  },
  {
   "cell_type": "code",
   "execution_count": 6,
   "metadata": {},
   "outputs": [
    {
     "data": {
      "text/plain": [
       "count    891.000000\n",
       "mean      28.566970\n",
       "std       13.199572\n",
       "min        0.420000\n",
       "25%       22.000000\n",
       "50%       24.000000\n",
       "75%       35.000000\n",
       "max       80.000000\n",
       "Name: Age_repl1, dtype: float64"
      ]
     },
     "execution_count": 6,
     "metadata": {},
     "output_type": "execute_result"
    }
   ],
   "source": [
    "from scipy import stats\n",
    "\n",
    "most_freq_age, count = stats.mode(titanic_df['Age'])\n",
    "\n",
    "age_mode = int(most_freq_age)\n",
    "titanic_df['Age_repl1'] = titanic_df['Age']\n",
    "titanic_df['Age_repl1'].replace(np.nan, age_mode, inplace=True)\n",
    "desc1 = titanic_df['Age_repl1'].describe()\n",
    "desc1"
   ]
  },
  {
   "cell_type": "markdown",
   "metadata": {},
   "source": [
    "# Solution"
   ]
  },
  {
   "cell_type": "markdown",
   "metadata": {},
   "source": [
    "## 1. Using Constant Value (0)\n",
    "* Replacing missing values with contant value 0."
   ]
  },
  {
   "cell_type": "code",
   "execution_count": 7,
   "metadata": {},
   "outputs": [
    {
     "name": "stdout",
     "output_type": "stream",
     "text": [
      "Any nulls are there? 0\n"
     ]
    },
    {
     "data": {
      "text/plain": [
       "count    891.000000\n",
       "mean      23.799293\n",
       "std       17.596074\n",
       "min        0.000000\n",
       "25%        6.000000\n",
       "50%       24.000000\n",
       "75%       35.000000\n",
       "max       80.000000\n",
       "Name: age_repl2, dtype: float64"
      ]
     },
     "execution_count": 7,
     "metadata": {},
     "output_type": "execute_result"
    }
   ],
   "source": [
    "titanic_df[\"age_repl2\"] = titanic_df[\"Age\"]\n",
    "titanic_df[\"age_repl2\"].replace(np.nan, 0, inplace=True)\n",
    "print(\"Any nulls are there?\",sum(titanic_df['age_repl2'].isnull() == True)) #just to validate if there are not null values in age_repl2 column\n",
    "desc2 = titanic_df[\"age_repl2\"].describe()\n",
    "desc2"
   ]
  },
  {
   "cell_type": "markdown",
   "metadata": {},
   "source": [
    "## 2. Using median \n",
    "* Replacing the missing values using column median value"
   ]
  },
  {
   "cell_type": "code",
   "execution_count": 8,
   "metadata": {},
   "outputs": [
    {
     "name": "stdout",
     "output_type": "stream",
     "text": [
      "Any nulls are there? 0\n"
     ]
    },
    {
     "data": {
      "text/plain": [
       "count    891.000000\n",
       "mean      29.361582\n",
       "std       13.019697\n",
       "min        0.420000\n",
       "25%       22.000000\n",
       "50%       28.000000\n",
       "75%       35.000000\n",
       "max       80.000000\n",
       "Name: age_repl3, dtype: float64"
      ]
     },
     "execution_count": 8,
     "metadata": {},
     "output_type": "execute_result"
    }
   ],
   "source": [
    "titanic_df[\"age_repl3\"] = titanic_df[\"Age\"]\n",
    "titanic_df[\"age_repl3\"].fillna(titanic_df[\"age_repl3\"].median(), inplace=True)\n",
    "print(\"Any nulls are there?\",sum(titanic_df['age_repl3'].isnull() == True))\n",
    "desc3 = titanic_df[\"age_repl3\"].describe()\n",
    "desc3"
   ]
  },
  {
   "cell_type": "markdown",
   "metadata": {},
   "source": [
    "## 3. Using values from previous row"
   ]
  },
  {
   "cell_type": "code",
   "execution_count": 9,
   "metadata": {},
   "outputs": [
    {
     "name": "stdout",
     "output_type": "stream",
     "text": [
      "Any nulls are there? 0\n"
     ]
    },
    {
     "data": {
      "text/plain": [
       "count    891.00000\n",
       "mean      29.58156\n",
       "std       14.55459\n",
       "min        0.42000\n",
       "25%       20.00000\n",
       "50%       28.00000\n",
       "75%       38.00000\n",
       "max       80.00000\n",
       "Name: age_repl4, dtype: float64"
      ]
     },
     "execution_count": 9,
     "metadata": {},
     "output_type": "execute_result"
    }
   ],
   "source": [
    "titanic_df[\"age_repl4\"] = titanic_df[\"Age\"]\n",
    "titanic_df[\"age_repl4\"].fillna(method='pad', inplace=True)\n",
    "print(\"Any nulls are there?\",sum(titanic_df['age_repl4'].isnull() == True))\n",
    "desc4 = titanic_df[\"age_repl4\"].describe()\n",
    "desc4 "
   ]
  },
  {
   "cell_type": "markdown",
   "metadata": {},
   "source": [
    "## 4. Using values from next row\n",
    "* Replacing value with the next row\n"
   ]
  },
  {
   "cell_type": "code",
   "execution_count": 10,
   "metadata": {},
   "outputs": [
    {
     "name": "stdout",
     "output_type": "stream",
     "text": [
      "Any nulls are there? 0\n"
     ]
    },
    {
     "data": {
      "text/plain": [
       "count    891.000000\n",
       "mean      29.870561\n",
       "std       14.597668\n",
       "min        0.420000\n",
       "25%       21.000000\n",
       "50%       29.000000\n",
       "75%       39.000000\n",
       "max       80.000000\n",
       "Name: age_repl5, dtype: float64"
      ]
     },
     "execution_count": 10,
     "metadata": {},
     "output_type": "execute_result"
    }
   ],
   "source": [
    "titanic_df[\"age_repl5\"] = titanic_df[\"Age\"]\n",
    "titanic_df[\"age_repl5\"].fillna(method='bfill', inplace=True)\n",
    "print(\"Any nulls are there?\",sum(titanic_df['age_repl5'].isnull() == True))\n",
    "desc5 = titanic_df[\"age_repl5\"].describe()\n",
    "desc5"
   ]
  },
  {
   "cell_type": "markdown",
   "metadata": {},
   "source": [
    "## 5. Using Interpolate Method\n",
    "* Replacing values using linear interpolate methid"
   ]
  },
  {
   "cell_type": "code",
   "execution_count": 11,
   "metadata": {},
   "outputs": [
    {
     "name": "stdout",
     "output_type": "stream",
     "text": [
      "Any nulls are there? 0\n"
     ]
    },
    {
     "data": {
      "text/plain": [
       "count    891.000000\n",
       "mean      29.726061\n",
       "std       13.902353\n",
       "min        0.420000\n",
       "25%       21.000000\n",
       "50%       28.500000\n",
       "75%       38.000000\n",
       "max       80.000000\n",
       "Name: age_repl6, dtype: float64"
      ]
     },
     "execution_count": 11,
     "metadata": {},
     "output_type": "execute_result"
    }
   ],
   "source": [
    "titanic_df[\"age_repl6\"] = titanic_df[\"Age\"]\n",
    "titanic_df[\"age_repl6\"].interpolate(method='linear', direction = 'forward', inplace=True) \n",
    "print(\"Any nulls are there?\",sum(titanic_df['age_repl6'].isnull() == True))\n",
    "desc6 = titanic_df[\"age_repl6\"].describe()\n",
    "desc6"
   ]
  },
  {
   "cell_type": "markdown",
   "metadata": {},
   "source": [
    "### 6. Using other columns to group by and then impute missing value\n",
    "* Replacing the missing values using the \"sex\" column and group by as females and males to impute missing values in a group"
   ]
  },
  {
   "cell_type": "code",
   "execution_count": 12,
   "metadata": {},
   "outputs": [
    {
     "data": {
      "text/plain": [
       "0"
      ]
     },
     "execution_count": 12,
     "metadata": {},
     "output_type": "execute_result"
    }
   ],
   "source": [
    "sum(titanic_df[\"Sex\"].isnull()==True)"
   ]
  },
  {
   "cell_type": "code",
   "execution_count": 13,
   "metadata": {},
   "outputs": [
    {
     "data": {
      "text/html": [
       "<div>\n",
       "<style scoped>\n",
       "    .dataframe tbody tr th:only-of-type {\n",
       "        vertical-align: middle;\n",
       "    }\n",
       "\n",
       "    .dataframe tbody tr th {\n",
       "        vertical-align: top;\n",
       "    }\n",
       "\n",
       "    .dataframe thead th {\n",
       "        text-align: right;\n",
       "    }\n",
       "</style>\n",
       "<table border=\"1\" class=\"dataframe\">\n",
       "  <thead>\n",
       "    <tr style=\"text-align: right;\">\n",
       "      <th></th>\n",
       "      <th>age_repl7</th>\n",
       "      <th>sex</th>\n",
       "    </tr>\n",
       "  </thead>\n",
       "  <tbody>\n",
       "    <tr>\n",
       "      <th>0</th>\n",
       "      <td>22.0</td>\n",
       "      <td>male</td>\n",
       "    </tr>\n",
       "    <tr>\n",
       "      <th>1</th>\n",
       "      <td>38.0</td>\n",
       "      <td>female</td>\n",
       "    </tr>\n",
       "    <tr>\n",
       "      <th>2</th>\n",
       "      <td>26.0</td>\n",
       "      <td>female</td>\n",
       "    </tr>\n",
       "    <tr>\n",
       "      <th>3</th>\n",
       "      <td>35.0</td>\n",
       "      <td>female</td>\n",
       "    </tr>\n",
       "    <tr>\n",
       "      <th>4</th>\n",
       "      <td>35.0</td>\n",
       "      <td>male</td>\n",
       "    </tr>\n",
       "  </tbody>\n",
       "</table>\n",
       "</div>"
      ],
      "text/plain": [
       "   age_repl7     sex\n",
       "0       22.0    male\n",
       "1       38.0  female\n",
       "2       26.0  female\n",
       "3       35.0  female\n",
       "4       35.0    male"
      ]
     },
     "execution_count": 13,
     "metadata": {},
     "output_type": "execute_result"
    }
   ],
   "source": [
    "df1 = pd.DataFrame(columns=[\"age_repl7\",\"sex\"])\n",
    "df1[\"age_repl7\"]=titanic_df[\"Age\"]\n",
    "df1[\"sex\"] = titanic_df[\"Sex\"]\n",
    "df1.head()"
   ]
  },
  {
   "cell_type": "code",
   "execution_count": 14,
   "metadata": {},
   "outputs": [
    {
     "name": "stdout",
     "output_type": "stream",
     "text": [
      "Any nulls are there? 0\n"
     ]
    },
    {
     "data": {
      "text/plain": [
       "count    891.000000\n",
       "mean      29.736034\n",
       "std       13.014897\n",
       "min        0.420000\n",
       "25%       22.000000\n",
       "50%       30.000000\n",
       "75%       35.000000\n",
       "max       80.000000\n",
       "Name: age_repl7, dtype: float64"
      ]
     },
     "execution_count": 14,
     "metadata": {},
     "output_type": "execute_result"
    }
   ],
   "source": [
    "df1[\"age_repl7\"] = df1.groupby(\"sex\")[\"age_repl7\"].transform(lambda x: x.fillna(x.mean()))\n",
    "print(\"Any nulls are there?\",sum(df1['age_repl7'].isnull() == True))\n",
    "desc7 = df1[\"age_repl7\"].describe()\n",
    "desc7"
   ]
  },
  {
   "cell_type": "markdown",
   "metadata": {},
   "source": [
    "### 7. Using mean of age attribute"
   ]
  },
  {
   "cell_type": "code",
   "execution_count": 15,
   "metadata": {},
   "outputs": [
    {
     "name": "stdout",
     "output_type": "stream",
     "text": [
      "Any nulls are there? 0\n"
     ]
    },
    {
     "data": {
      "text/plain": [
       "count    891.000000\n",
       "mean      29.699118\n",
       "std       13.002015\n",
       "min        0.420000\n",
       "25%       22.000000\n",
       "50%       29.699118\n",
       "75%       35.000000\n",
       "max       80.000000\n",
       "Name: age_repl8, dtype: float64"
      ]
     },
     "execution_count": 15,
     "metadata": {},
     "output_type": "execute_result"
    }
   ],
   "source": [
    "titanic_df[\"age_repl8\"] = titanic_df[\"Age\"]\n",
    "titanic_df[\"age_repl8\"].fillna(titanic_df[\"age_repl8\"].mean(), inplace=True)\n",
    "print(\"Any nulls are there?\",sum(titanic_df['age_repl8'].isnull() == True))\n",
    "desc8 = titanic_df[\"age_repl8\"].describe()\n",
    "desc8"
   ]
  },
  {
   "cell_type": "markdown",
   "metadata": {},
   "source": [
    "### 8. Using Standard Deviation"
   ]
  },
  {
   "cell_type": "code",
   "execution_count": 16,
   "metadata": {},
   "outputs": [
    {
     "name": "stdout",
     "output_type": "stream",
     "text": [
      "Any nulls are there? 0\n"
     ]
    },
    {
     "data": {
      "text/plain": [
       "count    891.000000\n",
       "mean      26.685028\n",
       "std       14.343656\n",
       "min        0.420000\n",
       "25%       14.526497\n",
       "50%       24.000000\n",
       "75%       35.000000\n",
       "max       80.000000\n",
       "Name: age_repl9, dtype: float64"
      ]
     },
     "execution_count": 16,
     "metadata": {},
     "output_type": "execute_result"
    }
   ],
   "source": [
    "titanic_df[\"age_repl9\"] = titanic_df[\"Age\"]\n",
    "titanic_df[\"age_repl9\"].fillna(titanic_df[\"age_repl9\"].std(), inplace=True)\n",
    "print(\"Any nulls are there?\",sum(titanic_df['age_repl9'].isnull() == True))\n",
    "desc9 = titanic_df[\"age_repl9\"].describe()\n",
    "desc9"
   ]
  },
  {
   "cell_type": "code",
   "execution_count": 17,
   "metadata": {},
   "outputs": [],
   "source": [
    "df_age = pd.DataFrame(desc, columns=[\"Age\"])\n",
    "df_mode = pd.DataFrame(desc1, columns=[\"age_repl1\"])\n",
    "df_const = pd.DataFrame(desc2, columns=[\"age_repl2\"])\n",
    "df_med= pd.DataFrame(desc3, columns=[\"age_repl3\"])\n",
    "df_prev = pd.DataFrame(desc4, columns=[\"age_repl4\"])\n",
    "df_next = pd.DataFrame(desc5, columns=[\"age_repl5\"])\n",
    "df_inter = pd.DataFrame(desc6, columns=[\"age_repl6\"])\n",
    "df_grp = pd.DataFrame(desc7, columns=[\"age_repl7\"])\n",
    "df_mean = pd.DataFrame(desc8, columns=[\"age_repl8\"])\n",
    "df_std = pd.DataFrame(desc9, columns=[\"age_repl9\"])\n"
   ]
  },
  {
   "cell_type": "code",
   "execution_count": 18,
   "metadata": {},
   "outputs": [],
   "source": [
    "final_result = pd.concat([df_age,df_const,df_med,df_prev,df_next,df_inter,df_grp,df_mean,df_std],axis=1)\n",
    "final_result.rename(columns={'age_repl1':'Mode','age_repl2':'Const(0)','age_repl3':'Median','age_repl4':'PrevVal',\n",
    "                            'age_repl5':'NextVal','age_repl6':'Interpo','age_repl7':'GroupBy','age_repl8':'mean',\n",
    "                            'age_repl9':'Std'}, inplace=True)\n",
    "            \n"
   ]
  },
  {
   "cell_type": "markdown",
   "metadata": {},
   "source": [
    "### Analysis Results\n",
    "* If we look at the table, we can clearly see that filling missing values using `Next available value in the dataset, Previous available values, and Linear Interpolation` are likely to have closest statistic properties as of original Age attribute.\n",
    "* Using constant value which Zero, the statistic properties are deviant to the origanl ones. So it is not a good option to use constant value for missing data as it can create biasness in the dataset.\n"
   ]
  },
  {
   "cell_type": "code",
   "execution_count": 19,
   "metadata": {},
   "outputs": [
    {
     "data": {
      "text/html": [
       "<style  type=\"text/css\" >\n",
       "    #T_9c9c5a24_ed50_11ea_99b6_38f9d35bc9c5row0_col0 {\n",
       "            background: lightgreen;\n",
       "        }    #T_9c9c5a24_ed50_11ea_99b6_38f9d35bc9c5row0_col3 {\n",
       "            background: lightgreen;\n",
       "        }    #T_9c9c5a24_ed50_11ea_99b6_38f9d35bc9c5row0_col4 {\n",
       "            background: lightgreen;\n",
       "        }    #T_9c9c5a24_ed50_11ea_99b6_38f9d35bc9c5row0_col5 {\n",
       "            background: lightgreen;\n",
       "        }    #T_9c9c5a24_ed50_11ea_99b6_38f9d35bc9c5row1_col0 {\n",
       "            background: lightgreen;\n",
       "        }    #T_9c9c5a24_ed50_11ea_99b6_38f9d35bc9c5row1_col3 {\n",
       "            background: lightgreen;\n",
       "        }    #T_9c9c5a24_ed50_11ea_99b6_38f9d35bc9c5row1_col4 {\n",
       "            background: lightgreen;\n",
       "        }    #T_9c9c5a24_ed50_11ea_99b6_38f9d35bc9c5row1_col5 {\n",
       "            background: lightgreen;\n",
       "        }    #T_9c9c5a24_ed50_11ea_99b6_38f9d35bc9c5row2_col0 {\n",
       "            background: lightgreen;\n",
       "        }    #T_9c9c5a24_ed50_11ea_99b6_38f9d35bc9c5row2_col3 {\n",
       "            background: lightgreen;\n",
       "        }    #T_9c9c5a24_ed50_11ea_99b6_38f9d35bc9c5row2_col4 {\n",
       "            background: lightgreen;\n",
       "        }    #T_9c9c5a24_ed50_11ea_99b6_38f9d35bc9c5row2_col5 {\n",
       "            background: lightgreen;\n",
       "        }    #T_9c9c5a24_ed50_11ea_99b6_38f9d35bc9c5row3_col0 {\n",
       "            background: lightgreen;\n",
       "        }    #T_9c9c5a24_ed50_11ea_99b6_38f9d35bc9c5row3_col3 {\n",
       "            background: lightgreen;\n",
       "        }    #T_9c9c5a24_ed50_11ea_99b6_38f9d35bc9c5row3_col4 {\n",
       "            background: lightgreen;\n",
       "        }    #T_9c9c5a24_ed50_11ea_99b6_38f9d35bc9c5row3_col5 {\n",
       "            background: lightgreen;\n",
       "        }    #T_9c9c5a24_ed50_11ea_99b6_38f9d35bc9c5row4_col0 {\n",
       "            background: lightgreen;\n",
       "        }    #T_9c9c5a24_ed50_11ea_99b6_38f9d35bc9c5row4_col3 {\n",
       "            background: lightgreen;\n",
       "        }    #T_9c9c5a24_ed50_11ea_99b6_38f9d35bc9c5row4_col4 {\n",
       "            background: lightgreen;\n",
       "        }    #T_9c9c5a24_ed50_11ea_99b6_38f9d35bc9c5row4_col5 {\n",
       "            background: lightgreen;\n",
       "        }    #T_9c9c5a24_ed50_11ea_99b6_38f9d35bc9c5row5_col0 {\n",
       "            background: lightgreen;\n",
       "        }    #T_9c9c5a24_ed50_11ea_99b6_38f9d35bc9c5row5_col3 {\n",
       "            background: lightgreen;\n",
       "        }    #T_9c9c5a24_ed50_11ea_99b6_38f9d35bc9c5row5_col4 {\n",
       "            background: lightgreen;\n",
       "        }    #T_9c9c5a24_ed50_11ea_99b6_38f9d35bc9c5row5_col5 {\n",
       "            background: lightgreen;\n",
       "        }    #T_9c9c5a24_ed50_11ea_99b6_38f9d35bc9c5row6_col0 {\n",
       "            background: lightgreen;\n",
       "        }    #T_9c9c5a24_ed50_11ea_99b6_38f9d35bc9c5row6_col3 {\n",
       "            background: lightgreen;\n",
       "        }    #T_9c9c5a24_ed50_11ea_99b6_38f9d35bc9c5row6_col4 {\n",
       "            background: lightgreen;\n",
       "        }    #T_9c9c5a24_ed50_11ea_99b6_38f9d35bc9c5row6_col5 {\n",
       "            background: lightgreen;\n",
       "        }    #T_9c9c5a24_ed50_11ea_99b6_38f9d35bc9c5row7_col0 {\n",
       "            background: lightgreen;\n",
       "        }    #T_9c9c5a24_ed50_11ea_99b6_38f9d35bc9c5row7_col3 {\n",
       "            background: lightgreen;\n",
       "        }    #T_9c9c5a24_ed50_11ea_99b6_38f9d35bc9c5row7_col4 {\n",
       "            background: lightgreen;\n",
       "        }    #T_9c9c5a24_ed50_11ea_99b6_38f9d35bc9c5row7_col5 {\n",
       "            background: lightgreen;\n",
       "        }</style><table id=\"T_9c9c5a24_ed50_11ea_99b6_38f9d35bc9c5\" ><thead>    <tr>        <th class=\"blank level0\" ></th>        <th class=\"col_heading level0 col0\" >Age</th>        <th class=\"col_heading level0 col1\" >Const(0)</th>        <th class=\"col_heading level0 col2\" >Median</th>        <th class=\"col_heading level0 col3\" >PrevVal</th>        <th class=\"col_heading level0 col4\" >NextVal</th>        <th class=\"col_heading level0 col5\" >Interpo</th>        <th class=\"col_heading level0 col6\" >GroupBy</th>        <th class=\"col_heading level0 col7\" >mean</th>        <th class=\"col_heading level0 col8\" >Std</th>    </tr></thead><tbody>\n",
       "                <tr>\n",
       "                        <th id=\"T_9c9c5a24_ed50_11ea_99b6_38f9d35bc9c5level0_row0\" class=\"row_heading level0 row0\" >count</th>\n",
       "                        <td id=\"T_9c9c5a24_ed50_11ea_99b6_38f9d35bc9c5row0_col0\" class=\"data row0 col0\" >714.000000</td>\n",
       "                        <td id=\"T_9c9c5a24_ed50_11ea_99b6_38f9d35bc9c5row0_col1\" class=\"data row0 col1\" >891.000000</td>\n",
       "                        <td id=\"T_9c9c5a24_ed50_11ea_99b6_38f9d35bc9c5row0_col2\" class=\"data row0 col2\" >891.000000</td>\n",
       "                        <td id=\"T_9c9c5a24_ed50_11ea_99b6_38f9d35bc9c5row0_col3\" class=\"data row0 col3\" >891.000000</td>\n",
       "                        <td id=\"T_9c9c5a24_ed50_11ea_99b6_38f9d35bc9c5row0_col4\" class=\"data row0 col4\" >891.000000</td>\n",
       "                        <td id=\"T_9c9c5a24_ed50_11ea_99b6_38f9d35bc9c5row0_col5\" class=\"data row0 col5\" >891.000000</td>\n",
       "                        <td id=\"T_9c9c5a24_ed50_11ea_99b6_38f9d35bc9c5row0_col6\" class=\"data row0 col6\" >891.000000</td>\n",
       "                        <td id=\"T_9c9c5a24_ed50_11ea_99b6_38f9d35bc9c5row0_col7\" class=\"data row0 col7\" >891.000000</td>\n",
       "                        <td id=\"T_9c9c5a24_ed50_11ea_99b6_38f9d35bc9c5row0_col8\" class=\"data row0 col8\" >891.000000</td>\n",
       "            </tr>\n",
       "            <tr>\n",
       "                        <th id=\"T_9c9c5a24_ed50_11ea_99b6_38f9d35bc9c5level0_row1\" class=\"row_heading level0 row1\" >mean</th>\n",
       "                        <td id=\"T_9c9c5a24_ed50_11ea_99b6_38f9d35bc9c5row1_col0\" class=\"data row1 col0\" >29.699118</td>\n",
       "                        <td id=\"T_9c9c5a24_ed50_11ea_99b6_38f9d35bc9c5row1_col1\" class=\"data row1 col1\" >23.799293</td>\n",
       "                        <td id=\"T_9c9c5a24_ed50_11ea_99b6_38f9d35bc9c5row1_col2\" class=\"data row1 col2\" >29.361582</td>\n",
       "                        <td id=\"T_9c9c5a24_ed50_11ea_99b6_38f9d35bc9c5row1_col3\" class=\"data row1 col3\" >29.581560</td>\n",
       "                        <td id=\"T_9c9c5a24_ed50_11ea_99b6_38f9d35bc9c5row1_col4\" class=\"data row1 col4\" >29.870561</td>\n",
       "                        <td id=\"T_9c9c5a24_ed50_11ea_99b6_38f9d35bc9c5row1_col5\" class=\"data row1 col5\" >29.726061</td>\n",
       "                        <td id=\"T_9c9c5a24_ed50_11ea_99b6_38f9d35bc9c5row1_col6\" class=\"data row1 col6\" >29.736034</td>\n",
       "                        <td id=\"T_9c9c5a24_ed50_11ea_99b6_38f9d35bc9c5row1_col7\" class=\"data row1 col7\" >29.699118</td>\n",
       "                        <td id=\"T_9c9c5a24_ed50_11ea_99b6_38f9d35bc9c5row1_col8\" class=\"data row1 col8\" >26.685028</td>\n",
       "            </tr>\n",
       "            <tr>\n",
       "                        <th id=\"T_9c9c5a24_ed50_11ea_99b6_38f9d35bc9c5level0_row2\" class=\"row_heading level0 row2\" >std</th>\n",
       "                        <td id=\"T_9c9c5a24_ed50_11ea_99b6_38f9d35bc9c5row2_col0\" class=\"data row2 col0\" >14.526497</td>\n",
       "                        <td id=\"T_9c9c5a24_ed50_11ea_99b6_38f9d35bc9c5row2_col1\" class=\"data row2 col1\" >17.596074</td>\n",
       "                        <td id=\"T_9c9c5a24_ed50_11ea_99b6_38f9d35bc9c5row2_col2\" class=\"data row2 col2\" >13.019697</td>\n",
       "                        <td id=\"T_9c9c5a24_ed50_11ea_99b6_38f9d35bc9c5row2_col3\" class=\"data row2 col3\" >14.554590</td>\n",
       "                        <td id=\"T_9c9c5a24_ed50_11ea_99b6_38f9d35bc9c5row2_col4\" class=\"data row2 col4\" >14.597668</td>\n",
       "                        <td id=\"T_9c9c5a24_ed50_11ea_99b6_38f9d35bc9c5row2_col5\" class=\"data row2 col5\" >13.902353</td>\n",
       "                        <td id=\"T_9c9c5a24_ed50_11ea_99b6_38f9d35bc9c5row2_col6\" class=\"data row2 col6\" >13.014897</td>\n",
       "                        <td id=\"T_9c9c5a24_ed50_11ea_99b6_38f9d35bc9c5row2_col7\" class=\"data row2 col7\" >13.002015</td>\n",
       "                        <td id=\"T_9c9c5a24_ed50_11ea_99b6_38f9d35bc9c5row2_col8\" class=\"data row2 col8\" >14.343656</td>\n",
       "            </tr>\n",
       "            <tr>\n",
       "                        <th id=\"T_9c9c5a24_ed50_11ea_99b6_38f9d35bc9c5level0_row3\" class=\"row_heading level0 row3\" >min</th>\n",
       "                        <td id=\"T_9c9c5a24_ed50_11ea_99b6_38f9d35bc9c5row3_col0\" class=\"data row3 col0\" >0.420000</td>\n",
       "                        <td id=\"T_9c9c5a24_ed50_11ea_99b6_38f9d35bc9c5row3_col1\" class=\"data row3 col1\" >0.000000</td>\n",
       "                        <td id=\"T_9c9c5a24_ed50_11ea_99b6_38f9d35bc9c5row3_col2\" class=\"data row3 col2\" >0.420000</td>\n",
       "                        <td id=\"T_9c9c5a24_ed50_11ea_99b6_38f9d35bc9c5row3_col3\" class=\"data row3 col3\" >0.420000</td>\n",
       "                        <td id=\"T_9c9c5a24_ed50_11ea_99b6_38f9d35bc9c5row3_col4\" class=\"data row3 col4\" >0.420000</td>\n",
       "                        <td id=\"T_9c9c5a24_ed50_11ea_99b6_38f9d35bc9c5row3_col5\" class=\"data row3 col5\" >0.420000</td>\n",
       "                        <td id=\"T_9c9c5a24_ed50_11ea_99b6_38f9d35bc9c5row3_col6\" class=\"data row3 col6\" >0.420000</td>\n",
       "                        <td id=\"T_9c9c5a24_ed50_11ea_99b6_38f9d35bc9c5row3_col7\" class=\"data row3 col7\" >0.420000</td>\n",
       "                        <td id=\"T_9c9c5a24_ed50_11ea_99b6_38f9d35bc9c5row3_col8\" class=\"data row3 col8\" >0.420000</td>\n",
       "            </tr>\n",
       "            <tr>\n",
       "                        <th id=\"T_9c9c5a24_ed50_11ea_99b6_38f9d35bc9c5level0_row4\" class=\"row_heading level0 row4\" >25%</th>\n",
       "                        <td id=\"T_9c9c5a24_ed50_11ea_99b6_38f9d35bc9c5row4_col0\" class=\"data row4 col0\" >20.125000</td>\n",
       "                        <td id=\"T_9c9c5a24_ed50_11ea_99b6_38f9d35bc9c5row4_col1\" class=\"data row4 col1\" >6.000000</td>\n",
       "                        <td id=\"T_9c9c5a24_ed50_11ea_99b6_38f9d35bc9c5row4_col2\" class=\"data row4 col2\" >22.000000</td>\n",
       "                        <td id=\"T_9c9c5a24_ed50_11ea_99b6_38f9d35bc9c5row4_col3\" class=\"data row4 col3\" >20.000000</td>\n",
       "                        <td id=\"T_9c9c5a24_ed50_11ea_99b6_38f9d35bc9c5row4_col4\" class=\"data row4 col4\" >21.000000</td>\n",
       "                        <td id=\"T_9c9c5a24_ed50_11ea_99b6_38f9d35bc9c5row4_col5\" class=\"data row4 col5\" >21.000000</td>\n",
       "                        <td id=\"T_9c9c5a24_ed50_11ea_99b6_38f9d35bc9c5row4_col6\" class=\"data row4 col6\" >22.000000</td>\n",
       "                        <td id=\"T_9c9c5a24_ed50_11ea_99b6_38f9d35bc9c5row4_col7\" class=\"data row4 col7\" >22.000000</td>\n",
       "                        <td id=\"T_9c9c5a24_ed50_11ea_99b6_38f9d35bc9c5row4_col8\" class=\"data row4 col8\" >14.526497</td>\n",
       "            </tr>\n",
       "            <tr>\n",
       "                        <th id=\"T_9c9c5a24_ed50_11ea_99b6_38f9d35bc9c5level0_row5\" class=\"row_heading level0 row5\" >50%</th>\n",
       "                        <td id=\"T_9c9c5a24_ed50_11ea_99b6_38f9d35bc9c5row5_col0\" class=\"data row5 col0\" >28.000000</td>\n",
       "                        <td id=\"T_9c9c5a24_ed50_11ea_99b6_38f9d35bc9c5row5_col1\" class=\"data row5 col1\" >24.000000</td>\n",
       "                        <td id=\"T_9c9c5a24_ed50_11ea_99b6_38f9d35bc9c5row5_col2\" class=\"data row5 col2\" >28.000000</td>\n",
       "                        <td id=\"T_9c9c5a24_ed50_11ea_99b6_38f9d35bc9c5row5_col3\" class=\"data row5 col3\" >28.000000</td>\n",
       "                        <td id=\"T_9c9c5a24_ed50_11ea_99b6_38f9d35bc9c5row5_col4\" class=\"data row5 col4\" >29.000000</td>\n",
       "                        <td id=\"T_9c9c5a24_ed50_11ea_99b6_38f9d35bc9c5row5_col5\" class=\"data row5 col5\" >28.500000</td>\n",
       "                        <td id=\"T_9c9c5a24_ed50_11ea_99b6_38f9d35bc9c5row5_col6\" class=\"data row5 col6\" >30.000000</td>\n",
       "                        <td id=\"T_9c9c5a24_ed50_11ea_99b6_38f9d35bc9c5row5_col7\" class=\"data row5 col7\" >29.699118</td>\n",
       "                        <td id=\"T_9c9c5a24_ed50_11ea_99b6_38f9d35bc9c5row5_col8\" class=\"data row5 col8\" >24.000000</td>\n",
       "            </tr>\n",
       "            <tr>\n",
       "                        <th id=\"T_9c9c5a24_ed50_11ea_99b6_38f9d35bc9c5level0_row6\" class=\"row_heading level0 row6\" >75%</th>\n",
       "                        <td id=\"T_9c9c5a24_ed50_11ea_99b6_38f9d35bc9c5row6_col0\" class=\"data row6 col0\" >38.000000</td>\n",
       "                        <td id=\"T_9c9c5a24_ed50_11ea_99b6_38f9d35bc9c5row6_col1\" class=\"data row6 col1\" >35.000000</td>\n",
       "                        <td id=\"T_9c9c5a24_ed50_11ea_99b6_38f9d35bc9c5row6_col2\" class=\"data row6 col2\" >35.000000</td>\n",
       "                        <td id=\"T_9c9c5a24_ed50_11ea_99b6_38f9d35bc9c5row6_col3\" class=\"data row6 col3\" >38.000000</td>\n",
       "                        <td id=\"T_9c9c5a24_ed50_11ea_99b6_38f9d35bc9c5row6_col4\" class=\"data row6 col4\" >39.000000</td>\n",
       "                        <td id=\"T_9c9c5a24_ed50_11ea_99b6_38f9d35bc9c5row6_col5\" class=\"data row6 col5\" >38.000000</td>\n",
       "                        <td id=\"T_9c9c5a24_ed50_11ea_99b6_38f9d35bc9c5row6_col6\" class=\"data row6 col6\" >35.000000</td>\n",
       "                        <td id=\"T_9c9c5a24_ed50_11ea_99b6_38f9d35bc9c5row6_col7\" class=\"data row6 col7\" >35.000000</td>\n",
       "                        <td id=\"T_9c9c5a24_ed50_11ea_99b6_38f9d35bc9c5row6_col8\" class=\"data row6 col8\" >35.000000</td>\n",
       "            </tr>\n",
       "            <tr>\n",
       "                        <th id=\"T_9c9c5a24_ed50_11ea_99b6_38f9d35bc9c5level0_row7\" class=\"row_heading level0 row7\" >max</th>\n",
       "                        <td id=\"T_9c9c5a24_ed50_11ea_99b6_38f9d35bc9c5row7_col0\" class=\"data row7 col0\" >80.000000</td>\n",
       "                        <td id=\"T_9c9c5a24_ed50_11ea_99b6_38f9d35bc9c5row7_col1\" class=\"data row7 col1\" >80.000000</td>\n",
       "                        <td id=\"T_9c9c5a24_ed50_11ea_99b6_38f9d35bc9c5row7_col2\" class=\"data row7 col2\" >80.000000</td>\n",
       "                        <td id=\"T_9c9c5a24_ed50_11ea_99b6_38f9d35bc9c5row7_col3\" class=\"data row7 col3\" >80.000000</td>\n",
       "                        <td id=\"T_9c9c5a24_ed50_11ea_99b6_38f9d35bc9c5row7_col4\" class=\"data row7 col4\" >80.000000</td>\n",
       "                        <td id=\"T_9c9c5a24_ed50_11ea_99b6_38f9d35bc9c5row7_col5\" class=\"data row7 col5\" >80.000000</td>\n",
       "                        <td id=\"T_9c9c5a24_ed50_11ea_99b6_38f9d35bc9c5row7_col6\" class=\"data row7 col6\" >80.000000</td>\n",
       "                        <td id=\"T_9c9c5a24_ed50_11ea_99b6_38f9d35bc9c5row7_col7\" class=\"data row7 col7\" >80.000000</td>\n",
       "                        <td id=\"T_9c9c5a24_ed50_11ea_99b6_38f9d35bc9c5row7_col8\" class=\"data row7 col8\" >80.000000</td>\n",
       "            </tr>\n",
       "    </tbody></table>"
      ],
      "text/plain": [
       "<pandas.io.formats.style.Styler at 0x12362b2d0>"
      ]
     },
     "execution_count": 19,
     "metadata": {},
     "output_type": "execute_result"
    }
   ],
   "source": [
    "final_result.style.apply(lambda x: ['background:lightgreen' if x=='Age' else '' \n",
    "                                    'background:lightgreen' if x=='PrevVal' or x=='NextVal'\n",
    "                                    or x=='Interpo' else '' for x in final_result.columns], axis=1)"
   ]
  },
  {
   "cell_type": "markdown",
   "metadata": {},
   "source": [
    "## Part2\n",
    "### Taking Embarked and Cabin properties of passenger and Using PAD(Previous Value) method as replacement strategy for missing values"
   ]
  },
  {
   "cell_type": "code",
   "execution_count": 20,
   "metadata": {},
   "outputs": [
    {
     "data": {
      "text/html": [
       "<div>\n",
       "<style scoped>\n",
       "    .dataframe tbody tr th:only-of-type {\n",
       "        vertical-align: middle;\n",
       "    }\n",
       "\n",
       "    .dataframe tbody tr th {\n",
       "        vertical-align: top;\n",
       "    }\n",
       "\n",
       "    .dataframe thead th {\n",
       "        text-align: right;\n",
       "    }\n",
       "</style>\n",
       "<table border=\"1\" class=\"dataframe\">\n",
       "  <thead>\n",
       "    <tr style=\"text-align: right;\">\n",
       "      <th></th>\n",
       "      <th>Embarked</th>\n",
       "      <th>Cabin</th>\n",
       "    </tr>\n",
       "  </thead>\n",
       "  <tbody>\n",
       "    <tr>\n",
       "      <th>0</th>\n",
       "      <td>S</td>\n",
       "      <td>NaN</td>\n",
       "    </tr>\n",
       "    <tr>\n",
       "      <th>1</th>\n",
       "      <td>C</td>\n",
       "      <td>C85</td>\n",
       "    </tr>\n",
       "    <tr>\n",
       "      <th>2</th>\n",
       "      <td>S</td>\n",
       "      <td>NaN</td>\n",
       "    </tr>\n",
       "    <tr>\n",
       "      <th>3</th>\n",
       "      <td>S</td>\n",
       "      <td>C123</td>\n",
       "    </tr>\n",
       "    <tr>\n",
       "      <th>4</th>\n",
       "      <td>S</td>\n",
       "      <td>NaN</td>\n",
       "    </tr>\n",
       "  </tbody>\n",
       "</table>\n",
       "</div>"
      ],
      "text/plain": [
       "  Embarked Cabin\n",
       "0        S   NaN\n",
       "1        C   C85\n",
       "2        S   NaN\n",
       "3        S  C123\n",
       "4        S   NaN"
      ]
     },
     "execution_count": 20,
     "metadata": {},
     "output_type": "execute_result"
    }
   ],
   "source": [
    "df_pType = titanic_df[[\"Embarked\",\"Cabin\"]] \n",
    "df_pType.head()"
   ]
  },
  {
   "cell_type": "code",
   "execution_count": 21,
   "metadata": {},
   "outputs": [
    {
     "data": {
      "text/html": [
       "<div>\n",
       "<style scoped>\n",
       "    .dataframe tbody tr th:only-of-type {\n",
       "        vertical-align: middle;\n",
       "    }\n",
       "\n",
       "    .dataframe tbody tr th {\n",
       "        vertical-align: top;\n",
       "    }\n",
       "\n",
       "    .dataframe thead th {\n",
       "        text-align: right;\n",
       "    }\n",
       "</style>\n",
       "<table border=\"1\" class=\"dataframe\">\n",
       "  <thead>\n",
       "    <tr style=\"text-align: right;\">\n",
       "      <th></th>\n",
       "      <th>Embarked</th>\n",
       "      <th>Cabin</th>\n",
       "    </tr>\n",
       "  </thead>\n",
       "  <tbody>\n",
       "    <tr>\n",
       "      <th>count</th>\n",
       "      <td>889</td>\n",
       "      <td>204</td>\n",
       "    </tr>\n",
       "    <tr>\n",
       "      <th>unique</th>\n",
       "      <td>3</td>\n",
       "      <td>147</td>\n",
       "    </tr>\n",
       "    <tr>\n",
       "      <th>top</th>\n",
       "      <td>S</td>\n",
       "      <td>G6</td>\n",
       "    </tr>\n",
       "    <tr>\n",
       "      <th>freq</th>\n",
       "      <td>644</td>\n",
       "      <td>4</td>\n",
       "    </tr>\n",
       "  </tbody>\n",
       "</table>\n",
       "</div>"
      ],
      "text/plain": [
       "       Embarked Cabin\n",
       "count       889   204\n",
       "unique        3   147\n",
       "top           S    G6\n",
       "freq        644     4"
      ]
     },
     "execution_count": 21,
     "metadata": {},
     "output_type": "execute_result"
    }
   ],
   "source": [
    "desc_emb = df_pType[\"Embarked\"].describe()\n",
    "desc_sur = df_pType[\"Cabin\"].describe()\n",
    "\n",
    "df_emb = pd.DataFrame(desc_emb, columns=[\"Embarked\"])\n",
    "df_sur = pd.DataFrame(desc_sur, columns=[\"cabin\"])\n",
    "\n",
    "final_pType = pd.concat([desc_emb,desc_sur],axis=1)\n",
    "final_pType"
   ]
  },
  {
   "cell_type": "code",
   "execution_count": 28,
   "metadata": {},
   "outputs": [
    {
     "name": "stderr",
     "output_type": "stream",
     "text": [
      "/usr/local/lib/python3.7/site-packages/pandas/core/generic.py:6245: SettingWithCopyWarning: \n",
      "A value is trying to be set on a copy of a slice from a DataFrame\n",
      "\n",
      "See the caveats in the documentation: https://pandas.pydata.org/pandas-docs/stable/user_guide/indexing.html#returning-a-view-versus-a-copy\n",
      "  self._update_inplace(new_data)\n"
     ]
    },
    {
     "data": {
      "text/html": [
       "<div>\n",
       "<style scoped>\n",
       "    .dataframe tbody tr th:only-of-type {\n",
       "        vertical-align: middle;\n",
       "    }\n",
       "\n",
       "    .dataframe tbody tr th {\n",
       "        vertical-align: top;\n",
       "    }\n",
       "\n",
       "    .dataframe thead th {\n",
       "        text-align: right;\n",
       "    }\n",
       "</style>\n",
       "<table border=\"1\" class=\"dataframe\">\n",
       "  <thead>\n",
       "    <tr style=\"text-align: right;\">\n",
       "      <th></th>\n",
       "      <th>Embarked_repl</th>\n",
       "      <th>Cabin_repl</th>\n",
       "    </tr>\n",
       "  </thead>\n",
       "  <tbody>\n",
       "    <tr>\n",
       "      <th>count</th>\n",
       "      <td>891</td>\n",
       "      <td>891</td>\n",
       "    </tr>\n",
       "    <tr>\n",
       "      <th>unique</th>\n",
       "      <td>3</td>\n",
       "      <td>147</td>\n",
       "    </tr>\n",
       "    <tr>\n",
       "      <th>top</th>\n",
       "      <td>S</td>\n",
       "      <td>G6</td>\n",
       "    </tr>\n",
       "    <tr>\n",
       "      <th>freq</th>\n",
       "      <td>644</td>\n",
       "      <td>24</td>\n",
       "    </tr>\n",
       "  </tbody>\n",
       "</table>\n",
       "</div>"
      ],
      "text/plain": [
       "       Embarked_repl Cabin_repl\n",
       "count            891        891\n",
       "unique             3        147\n",
       "top                S         G6\n",
       "freq             644         24"
      ]
     },
     "execution_count": 28,
     "metadata": {},
     "output_type": "execute_result"
    }
   ],
   "source": [
    "df_pType[\"Embarked\"].fillna(method='pad', inplace=True)\n",
    "df_pType[\"Cabin\"].fillna(method='pad', inplace=True)\n",
    "desc_emb_repl = df_pType[\"Embarked\"].describe()\n",
    "desc_sur_repl = df_pType[\"Cabin\"].describe()\n",
    "df_emb_repl = pd.DataFrame(desc_emb_repl, columns=[\"Embarked\"])\n",
    "df_sur_repl = pd.DataFrame(desc_sur_repl, columns=[\"Cabin\"])\n",
    "final_pType_repl = pd.concat([df_emb_repl,df_sur_repl],axis=1)\n",
    "final_pType_repl.rename(columns={\"Embarked\":\"Embarked_repl\",\"Cabin\":\"Cabin_repl\",\n",
    "                           },inplace=True)\n",
    "final_pType_repl"
   ]
  },
  {
   "cell_type": "code",
   "execution_count": 23,
   "metadata": {},
   "outputs": [
    {
     "data": {
      "text/html": [
       "<style  type=\"text/css\" >\n",
       "    #T_a0082fd0_ed50_11ea_99b6_38f9d35bc9c5row0_col0 {\n",
       "            background: lightgreen;\n",
       "        }    #T_a0082fd0_ed50_11ea_99b6_38f9d35bc9c5row0_col1 {\n",
       "            background: red;\n",
       "        }    #T_a0082fd0_ed50_11ea_99b6_38f9d35bc9c5row0_col2 {\n",
       "            background: lightgreen;\n",
       "        }    #T_a0082fd0_ed50_11ea_99b6_38f9d35bc9c5row0_col3 {\n",
       "            background: red;\n",
       "        }    #T_a0082fd0_ed50_11ea_99b6_38f9d35bc9c5row1_col0 {\n",
       "            background: lightgreen;\n",
       "        }    #T_a0082fd0_ed50_11ea_99b6_38f9d35bc9c5row1_col1 {\n",
       "            background: red;\n",
       "        }    #T_a0082fd0_ed50_11ea_99b6_38f9d35bc9c5row1_col2 {\n",
       "            background: lightgreen;\n",
       "        }    #T_a0082fd0_ed50_11ea_99b6_38f9d35bc9c5row1_col3 {\n",
       "            background: red;\n",
       "        }    #T_a0082fd0_ed50_11ea_99b6_38f9d35bc9c5row2_col0 {\n",
       "            background: lightgreen;\n",
       "        }    #T_a0082fd0_ed50_11ea_99b6_38f9d35bc9c5row2_col1 {\n",
       "            background: red;\n",
       "        }    #T_a0082fd0_ed50_11ea_99b6_38f9d35bc9c5row2_col2 {\n",
       "            background: lightgreen;\n",
       "        }    #T_a0082fd0_ed50_11ea_99b6_38f9d35bc9c5row2_col3 {\n",
       "            background: red;\n",
       "        }    #T_a0082fd0_ed50_11ea_99b6_38f9d35bc9c5row3_col0 {\n",
       "            background: lightgreen;\n",
       "        }    #T_a0082fd0_ed50_11ea_99b6_38f9d35bc9c5row3_col1 {\n",
       "            background: red;\n",
       "        }    #T_a0082fd0_ed50_11ea_99b6_38f9d35bc9c5row3_col2 {\n",
       "            background: lightgreen;\n",
       "        }    #T_a0082fd0_ed50_11ea_99b6_38f9d35bc9c5row3_col3 {\n",
       "            background: red;\n",
       "        }</style><table id=\"T_a0082fd0_ed50_11ea_99b6_38f9d35bc9c5\" ><thead>    <tr>        <th class=\"blank level0\" ></th>        <th class=\"col_heading level0 col0\" >Embarked</th>        <th class=\"col_heading level0 col1\" >Cabin</th>        <th class=\"col_heading level0 col2\" >Embarked_repl</th>        <th class=\"col_heading level0 col3\" >Cabin_repl</th>    </tr></thead><tbody>\n",
       "                <tr>\n",
       "                        <th id=\"T_a0082fd0_ed50_11ea_99b6_38f9d35bc9c5level0_row0\" class=\"row_heading level0 row0\" >count</th>\n",
       "                        <td id=\"T_a0082fd0_ed50_11ea_99b6_38f9d35bc9c5row0_col0\" class=\"data row0 col0\" >889</td>\n",
       "                        <td id=\"T_a0082fd0_ed50_11ea_99b6_38f9d35bc9c5row0_col1\" class=\"data row0 col1\" >204</td>\n",
       "                        <td id=\"T_a0082fd0_ed50_11ea_99b6_38f9d35bc9c5row0_col2\" class=\"data row0 col2\" >891</td>\n",
       "                        <td id=\"T_a0082fd0_ed50_11ea_99b6_38f9d35bc9c5row0_col3\" class=\"data row0 col3\" >890</td>\n",
       "            </tr>\n",
       "            <tr>\n",
       "                        <th id=\"T_a0082fd0_ed50_11ea_99b6_38f9d35bc9c5level0_row1\" class=\"row_heading level0 row1\" >unique</th>\n",
       "                        <td id=\"T_a0082fd0_ed50_11ea_99b6_38f9d35bc9c5row1_col0\" class=\"data row1 col0\" >3</td>\n",
       "                        <td id=\"T_a0082fd0_ed50_11ea_99b6_38f9d35bc9c5row1_col1\" class=\"data row1 col1\" >147</td>\n",
       "                        <td id=\"T_a0082fd0_ed50_11ea_99b6_38f9d35bc9c5row1_col2\" class=\"data row1 col2\" >3</td>\n",
       "                        <td id=\"T_a0082fd0_ed50_11ea_99b6_38f9d35bc9c5row1_col3\" class=\"data row1 col3\" >147</td>\n",
       "            </tr>\n",
       "            <tr>\n",
       "                        <th id=\"T_a0082fd0_ed50_11ea_99b6_38f9d35bc9c5level0_row2\" class=\"row_heading level0 row2\" >top</th>\n",
       "                        <td id=\"T_a0082fd0_ed50_11ea_99b6_38f9d35bc9c5row2_col0\" class=\"data row2 col0\" >S</td>\n",
       "                        <td id=\"T_a0082fd0_ed50_11ea_99b6_38f9d35bc9c5row2_col1\" class=\"data row2 col1\" >G6</td>\n",
       "                        <td id=\"T_a0082fd0_ed50_11ea_99b6_38f9d35bc9c5row2_col2\" class=\"data row2 col2\" >S</td>\n",
       "                        <td id=\"T_a0082fd0_ed50_11ea_99b6_38f9d35bc9c5row2_col3\" class=\"data row2 col3\" >G6</td>\n",
       "            </tr>\n",
       "            <tr>\n",
       "                        <th id=\"T_a0082fd0_ed50_11ea_99b6_38f9d35bc9c5level0_row3\" class=\"row_heading level0 row3\" >freq</th>\n",
       "                        <td id=\"T_a0082fd0_ed50_11ea_99b6_38f9d35bc9c5row3_col0\" class=\"data row3 col0\" >644</td>\n",
       "                        <td id=\"T_a0082fd0_ed50_11ea_99b6_38f9d35bc9c5row3_col1\" class=\"data row3 col1\" >4</td>\n",
       "                        <td id=\"T_a0082fd0_ed50_11ea_99b6_38f9d35bc9c5row3_col2\" class=\"data row3 col2\" >644</td>\n",
       "                        <td id=\"T_a0082fd0_ed50_11ea_99b6_38f9d35bc9c5row3_col3\" class=\"data row3 col3\" >24</td>\n",
       "            </tr>\n",
       "    </tbody></table>"
      ],
      "text/plain": [
       "<pandas.io.formats.style.Styler at 0x124770990>"
      ]
     },
     "execution_count": 23,
     "metadata": {},
     "output_type": "execute_result"
    }
   ],
   "source": [
    "final_merged_df = final_pType.join(final_pType_repl)\n",
    "final_merged_df.style.apply(lambda x: ['background:lightgreen' if x =='Embarked'or x=='Embarked_repl' else '' \n",
    "                                    'background:red' if x =='Cabin' or x=='Cabin_repl'\n",
    "                                    else '' for x in final_merged_df.columns], axis=1)\n"
   ]
  },
  {
   "cell_type": "markdown",
   "metadata": {},
   "source": [
    "### Findings:\n",
    "As clearly seen from the above table, the Embarked attribute is not affected by the replacement strategy used. However the Cabin's Freq property has been affected with the replacement startegy. "
   ]
  }
 ],
 "metadata": {
  "kernelspec": {
   "display_name": "Python 3",
   "language": "python",
   "name": "python3"
  },
  "language_info": {
   "codemirror_mode": {
    "name": "ipython",
    "version": 3
   },
   "file_extension": ".py",
   "mimetype": "text/x-python",
   "name": "python",
   "nbconvert_exporter": "python",
   "pygments_lexer": "ipython3",
   "version": "3.7.7"
  }
 },
 "nbformat": 4,
 "nbformat_minor": 4
}
